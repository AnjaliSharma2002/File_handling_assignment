{
 "cells": [
  {
   "cell_type": "code",
   "execution_count": 16,
   "id": "826a8a22-e708-4ff6-842c-15613b6e061f",
   "metadata": {},
   "outputs": [],
   "source": [
    "# Q1. \n",
    "\n",
    "# The scenarios where shared data and communication are essential, and fault tolerance is less critical, multithreading is more suitable.\n",
    "\n",
    "# Python multiprocessing can be used for parallel execution of a function across multiple input values, distributing the input data across processes (data parallelism)."
   ]
  },
  {
   "cell_type": "code",
   "execution_count": 17,
   "id": "d63b16e1-efc1-4553-8dcc-d397060578d8",
   "metadata": {},
   "outputs": [],
   "source": [
    "# Q2.\n",
    "\n",
    "# A process pool is a mechanism that allows us to manage and distribute tasks across multiple processes efficiently.\n",
    "\n",
    "# It also allows us to do multiple jobs per process, which may make it easier to parallelize your program."
   ]
  },
  {
   "cell_type": "code",
   "execution_count": 18,
   "id": "3f7d0bb8-1917-4554-81d5-a6c59944a5b8",
   "metadata": {},
   "outputs": [],
   "source": [
    "# Q3.\n",
    "\n",
    "# Multiprocessing allows the system to run multiple processes simultaneously. \n",
    "\n",
    "# Multiprocessing is the utilization of two or more central processing units (CPUs) in a single computer system. It also allows a program to run multiple tasks in parallel by using multiple CPU cores. This can greatly speed up the execution of tasks "
   ]
  },
  {
   "cell_type": "code",
   "execution_count": 19,
   "id": "f255fef5-40be-43c9-b95b-b23ea3ef12ad",
   "metadata": {},
   "outputs": [
    {
     "name": "stdout",
     "output_type": "stream",
     "text": [
      "Added 0: [0]\n",
      "Removed 0: []\n",
      "Added 1: [1]\n",
      "Added 2: [1, 2]\n",
      "Removed 1: [2]\n",
      "Added 3: [2, 3]\n",
      "Added 4: [2, 3, 4]\n",
      "Removed 2: [3, 4]\n",
      "Added 5: [3, 4, 5]\n",
      "Added 6: [3, 4, 5, 6]\n",
      "Removed 3: [4, 5, 6]\n",
      "Added 7: [4, 5, 6, 7]\n",
      "Added 8: [4, 5, 6, 7, 8]\n",
      "Removed 4: [5, 6, 7, 8]\n",
      "Added 9: [5, 6, 7, 8, 9]\n",
      "Removed 5: [6, 7, 8, 9]\n",
      "Removed 6: [7, 8, 9]\n",
      "Removed 7: [8, 9]\n",
      "Removed 8: [9]\n",
      "Removed 9: []\n"
     ]
    }
   ],
   "source": [
    "# Q4. \n",
    "\n",
    "import threading\n",
    "import time\n",
    "\n",
    "shared_list = []\n",
    "lock = threading.Lock()\n",
    "\n",
    "def add_numbers():\n",
    "    for i in range(10):\n",
    "        with lock:\n",
    "            shared_list.append(i)\n",
    "            print(f\"Added {i}: {shared_list}\")\n",
    "        time.sleep(0.1) \n",
    "\n",
    "def remove_numbers():\n",
    "    for _ in range(10):\n",
    "        with lock:\n",
    "            if shared_list:\n",
    "                removed = shared_list.pop(0)\n",
    "                print(f\"Removed {removed}: {shared_list}\")\n",
    "        time.sleep(0.2) \n",
    "\n",
    "add_thread = threading.Thread(target=add_numbers)\n",
    "remove_thread = threading.Thread(target=remove_numbers)\n",
    "\n",
    "add_thread.start()\n",
    "remove_thread.start()\n",
    "\n",
    "add_thread.join()\n",
    "remove_thread.join()"
   ]
  },
  {
   "cell_type": "code",
   "execution_count": 20,
   "id": "a56309dc-0da6-46d3-ad55-9aec2d6cbcde",
   "metadata": {},
   "outputs": [],
   "source": [
    "# Q5. \n",
    "\n",
    "# Thread synchronization is achieved with tools like Lock, Semaphore, and Queue from the threading module to coordinate access to shared data. Threads within the same process can share data directly, which can be more efficient than the communication\n",
    "# mechanisms required between separate processes and this will be the more efficient way for sharing the data."
   ]
  },
  {
   "cell_type": "code",
   "execution_count": 21,
   "id": "a2df7702-bd91-4ad8-b265-3d0745b59ecb",
   "metadata": {},
   "outputs": [],
   "source": [
    "# Q6.\n",
    "\n",
    "# Handling exceptions in concurrent programs is crucial to ensure that the application remains stable and behaves predictably. \n",
    "\n",
    "# It is essential for stability, preventing crashes, and maintaining resource integrity."
   ]
  },
  {
   "cell_type": "code",
   "execution_count": 22,
   "id": "a0ad9835-a1aa-4dc5-9b78-d27b0dffa152",
   "metadata": {},
   "outputs": [
    {
     "name": "stdout",
     "output_type": "stream",
     "text": [
      "Factorial of 1 is 1\n",
      "Factorial of 2 is 2\n",
      "Factorial of 3 is 6\n",
      "Factorial of 4 is 24\n",
      "Factorial of 5 is 120\n",
      "Factorial of 6 is 720\n",
      "Factorial of 7 is 5040\n",
      "Factorial of 8 is 40320\n",
      "Factorial of 9 is 362880\n",
      "Factorial of 10 is 3628800\n"
     ]
    }
   ],
   "source": [
    "# Q7.\n",
    "\n",
    "import concurrent.futures\n",
    "import math\n",
    "\n",
    "def calculate_factorial(n):\n",
    "    return math.factorial(n)\n",
    "\n",
    "numbers = range(1, 11)\n",
    "\n",
    "with concurrent.futures.ThreadPoolExecutor() as executor:\n",
    "    results = executor.map(calculate_factorial, numbers)\n",
    "    \n",
    "    for number, factorial in zip(numbers, results):\n",
    "        print(f\"Factorial of {number} is {factorial}\")"
   ]
  },
  {
   "cell_type": "code",
   "execution_count": 23,
   "id": "df31be06-cd7f-4718-ad90-9e740740b9e3",
   "metadata": {},
   "outputs": [
    {
     "name": "stdout",
     "output_type": "stream",
     "text": [
      "Pool size: 2\n",
      "Results: [1, 4, 9, 16, 25, 36, 49, 64, 81, 100]\n",
      "Time taken: 0.0259 seconds\n",
      "Pool size: 4\n",
      "Results: [1, 4, 9, 16, 25, 36, 49, 64, 81, 100]\n",
      "Time taken: 0.0401 seconds\n",
      "Pool size: 8\n",
      "Results: [1, 4, 9, 16, 25, 36, 49, 64, 81, 100]\n",
      "Time taken: 0.0710 seconds\n"
     ]
    }
   ],
   "source": [
    "# Q8.\n",
    "\n",
    "import multiprocessing\n",
    "import time\n",
    "\n",
    "def square_number(n):\n",
    "    return n * n\n",
    "\n",
    "numbers = range(1, 11)\n",
    "pool_sizes = [2, 4, 8]\n",
    "\n",
    "for size in pool_sizes:\n",
    "    start_time = time.time()\n",
    "    with multiprocessing.Pool(size) as pool:\n",
    "        results = pool.map(square_number, numbers)\n",
    "    end_time = time.time()\n",
    "    \n",
    "    print(\"Pool size:\", size)\n",
    "    print(\"Results:\", results)\n",
    "    print(f\"Time taken: {end_time - start_time:.4f} seconds\")\n"
   ]
  },
  {
   "cell_type": "code",
   "execution_count": null,
   "id": "7bec6565-3987-4a01-a5cf-938fb9989684",
   "metadata": {},
   "outputs": [],
   "source": []
  }
 ],
 "metadata": {
  "kernelspec": {
   "display_name": "Python 3 (ipykernel)",
   "language": "python",
   "name": "python3"
  },
  "language_info": {
   "codemirror_mode": {
    "name": "ipython",
    "version": 3
   },
   "file_extension": ".py",
   "mimetype": "text/x-python",
   "name": "python",
   "nbconvert_exporter": "python",
   "pygments_lexer": "ipython3",
   "version": "3.10.8"
  }
 },
 "nbformat": 4,
 "nbformat_minor": 5
}
